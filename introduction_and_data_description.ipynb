{
 "cells": [
  {
   "cell_type": "markdown",
   "metadata": {},
   "source": [
    "## Introduction\n",
    "\n",
    "(Sorry for probably existing mistakes, my native language is Russian and this course is some kind of achievement for me)\n",
    "\n",
    "I’m not sure if it is exactly a business problem, but I want to compare my hometown – Voronezh with my new city – Moscow. Voronezh is quite developed city with more than one million population. Obviously, life there is less expensive than in capital city. But this project gave me interesting idea – let’s compare these two places only from venue point if view. Maybe in this particular case there is no such terrific difference. Or maybe all neighborhoods of Voronezh closer to only suburban areas of Moscow, who knows? \n",
    "\n",
    "Let’s check!\n",
    "\n",
    "And from business perspective it’s useful to gain such a comparison in case of choosing more or less similar starting point  for entrepreneur from Voronezh to expand his business and conquer the capital city!\n"
   ]
  },
  {
   "cell_type": "markdown",
   "metadata": {},
   "source": [
    "## Data\n",
    "Let’s talk about data.\n",
    "\n",
    "Obviously, I’ll use foursquare API for gaining venue data. \n",
    "For neighborhoods I’ll use so called ‘administrative districts’.\n",
    "There are ten of them in Moscow and likely I’ll have to geocode them. \n",
    "\n",
    "That’s it, that’s all I need to start work.\n"
   ]
  },
  {
   "cell_type": "code",
   "execution_count": null,
   "metadata": {},
   "outputs": [],
   "source": []
  }
 ],
 "metadata": {
  "kernelspec": {
   "display_name": "Python 3",
   "language": "python",
   "name": "python3"
  },
  "language_info": {
   "codemirror_mode": {
    "name": "ipython",
    "version": 3
   },
   "file_extension": ".py",
   "mimetype": "text/x-python",
   "name": "python",
   "nbconvert_exporter": "python",
   "pygments_lexer": "ipython3",
   "version": "3.8.5"
  }
 },
 "nbformat": 4,
 "nbformat_minor": 4
}
